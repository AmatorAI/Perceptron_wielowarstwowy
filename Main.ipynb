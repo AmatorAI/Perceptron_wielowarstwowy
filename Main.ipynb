{
 "cells": [
  {
   "cell_type": "markdown",
   "metadata": {},
   "source": [
    "# Perceptron wielowarstwowy - prosta sieć neuronowa"
   ]
  },
  {
   "cell_type": "markdown",
   "metadata": {},
   "source": [
    "### Celem projektu będzie zbudowanie prostej sieci neuronowej za pomocą biblioteki SKLEARN.\n"
   ]
  },
  {
   "cell_type": "markdown",
   "metadata": {},
   "source": [
    "<img src=\"img/nn.png\" width=\"500\">"
   ]
  },
  {
   "cell_type": "markdown",
   "metadata": {},
   "source": [
    "### Jeśli chodzi o dane, posłużę się również wbudowanym zbiorem danych LOAD_DIGITS. Dane te przedstawiają \"ręcznie\" napisane cyfry od 0 do 9. Jedna obserwacja to jeden obrazek. Jeden obrazek to 8x8 pixeli, czy 64 pixeli posiada jeden obrazek. Mamy zmienne, które reprezentują wartośc nasycenia czerni w poszczeólnym pixelu. Czyli każda zmienna mówi nam w jakim stopniu zaczerniony jest pixel (biały, czarny czy skala szarości)"
   ]
  },
  {
   "cell_type": "markdown",
   "metadata": {},
   "source": [
    "Zanim jednak przedstawie przykładowe liczby, zaimportuje potrzebne biblioteki no i oczywiście dane.\n",
    "Dodatkowo podzielę sobie już dane na obserwacje i zmiennie (data, target)."
   ]
  },
  {
   "cell_type": "code",
   "execution_count": 1,
   "metadata": {},
   "outputs": [],
   "source": [
    "import numpy as np\n",
    "from sklearn.datasets import load_digits\n",
    "from sklearn.metrics import accuracy_score\n",
    "from sklearn.model_selection import train_test_split\n",
    "import matplotlib.pyplot as plt\n",
    "%matplotlib inline"
   ]
  },
  {
   "cell_type": "code",
   "execution_count": 2,
   "metadata": {},
   "outputs": [],
   "source": [
    "dataset = load_digits()\n",
    "X = dataset.data\n",
    "y= dataset.target"
   ]
  },
  {
   "cell_type": "code",
   "execution_count": 3,
   "metadata": {},
   "outputs": [
    {
     "data": {
      "image/png": "[encoded data removed]",
      "text/plain": [
       "<Figure size 1440x720 with 10 Axes>"
      ]
     },
     "metadata": {
      "needs_background": "light"
     },
     "output_type": "display_data"
    }
   ],
   "source": [
    "plt.figure(figsize=(20,10))\n",
    "for index, (image, label) in enumerate(zip(dataset.data[0:10], dataset.target[0:10])):\n",
    "    plt.subplot(1, 10, index+1)\n",
    "    plt.imshow(np.reshape(image, (8,8)), cmap=plt.cm.gray)\n",
    "    plt.title(label, fontsize=20)"
   ]
  },
  {
   "cell_type": "markdown",
   "metadata": {},
   "source": [
    "Sprawdzę ile mamy obserwacji i zmiennych."
   ]
  },
  {
   "cell_type": "code",
   "execution_count": 4,
   "metadata": {},
   "outputs": [
    {
     "name": "stdout",
     "output_type": "stream",
     "text": [
      "(1797, 64)\n"
     ]
    }
   ],
   "source": [
    "print(X.shape)"
   ]
  },
  {
   "cell_type": "markdown",
   "metadata": {},
   "source": [
    "Dodatkowo przed zbudowaniem perceptronu wielowarstwowego, podzielę dane na zbiór treningowy i testowy."
   ]
  },
  {
   "cell_type": "code",
   "execution_count": 5,
   "metadata": {},
   "outputs": [],
   "source": [
    "X_train, X_test, y_train, y_test = train_test_split(X, y, test_size=0.3)"
   ]
  },
  {
   "cell_type": "markdown",
   "metadata": {},
   "source": [
    "### Budowanie sieci neuronowej (perceptron wielowarstwowy)"
   ]
  },
  {
   "cell_type": "code",
   "execution_count": 6,
   "metadata": {},
   "outputs": [],
   "source": [
    "from sklearn.neural_network import MLPClassifier\n",
    "#?MLPClassifier\n",
    "from sklearn.preprocessing import MaxAbsScaler\n",
    "from sklearn.pipeline import make_pipeline"
   ]
  },
  {
   "cell_type": "markdown",
   "metadata": {},
   "source": [
    "Dane zamykają się w przedziale od 0 do 16, gdzie 0 to biały a 16 to czarny to co po środku to skala szarości. Pytanie brzmi czy powinnismy zestandaryzować i zeskalowac dane ? Ogólnie prawie zawsze powinniśmy to robić, żeby dane było w okolicy 0.\n",
    "\n",
    "Możemy zrobić to np. tak że podzielimy nasze wartości w danej kolumnie przez największą wartość tej kolumny (NIE ZAWSZE, ZALEŻY OD DANYCH) \n",
    "\n",
    "Najczęściej robimy tak, że np. przy obrazach gdzie wartości są dodatnie i odpowiadają jakiemuś nasyceniu kolorów, i są to wartości 0+ ,a jeśli wartości są np. ujemne to można podzielić przez maksimum z wartości bezwzględnej i wtedy się przeskaluję do przedziału (-1) - (+1)\n",
    "\n",
    "Albo za pomocą StandardScalera - ma taką wadę że jeżeli odchylenie standardowe jest bardzo małe to istnieje ryzyko, że po podzieleniu warości będą bardzo duże\n",
    "\n",
    "Albo za pomocą MaxAbsSclaer - czyli to jest dokładnie dzielenie przez wartość bezwzględną największą w kolumnie (jest to s'kalernowy transformator)"
   ]
  },
  {
   "cell_type": "code",
   "execution_count": null,
   "metadata": {},
   "outputs": [],
   "source": []
  },
  {
   "cell_type": "markdown",
   "metadata": {},
   "source": [
    "Utworzę teraz dwu warstwową sieć neuronową, gdzie w pierwszej warstwie będą 32 neurony a w drugiej 16. (MLPClassifier((32,16)).\n",
    "Dodatkowo użyję MaxAbsScaler() w celu zeskalowania danych. Dla tak małych i prostych danych nie powinno to mieć dużego znaczenia, ale warto to zrobić.\n",
    "\n",
    "Wszystkie powyższe czynności zamknę w pipeline."
   ]
  },
  {
   "cell_type": "code",
   "execution_count": 7,
   "metadata": {},
   "outputs": [],
   "source": [
    "model = make_pipeline(MaxAbsScaler(), MLPClassifier((32,16)))"
   ]
  },
  {
   "cell_type": "markdown",
   "metadata": {},
   "source": [
    "Poniższy błąd mówi o przekroczeniu domyślnej liczby epoko (200) podczas uczenia.\n",
    "Zmienię ten parametr w kolejnym modelu."
   ]
  },
  {
   "cell_type": "code",
   "execution_count": 8,
   "metadata": {},
   "outputs": [
    {
     "name": "stderr",
     "output_type": "stream",
     "text": [
      "D:\\Programowanie\\Anaconda\\lib\\site-packages\\sklearn\\neural_network\\_multilayer_perceptron.py:692: ConvergenceWarning: Stochastic Optimizer: Maximum iterations (200) reached and the optimization hasn't converged yet.\n",
      "  warnings.warn(\n"
     ]
    },
    {
     "data": {
      "text/plain": [
       "Pipeline(steps=[('maxabsscaler', MaxAbsScaler()),\n",
       "                ('mlpclassifier', MLPClassifier(hidden_layer_sizes=(32, 16)))])"
      ]
     },
     "execution_count": 8,
     "metadata": {},
     "output_type": "execute_result"
    }
   ],
   "source": [
    "model.fit(X_train, y_train)"
   ]
  },
  {
   "cell_type": "markdown",
   "metadata": {},
   "source": [
    "Sprawdzam skuteczność mojego modelu."
   ]
  },
  {
   "cell_type": "code",
   "execution_count": 9,
   "metadata": {},
   "outputs": [
    {
     "data": {
      "text/plain": [
       "0.9574074074074074"
      ]
     },
     "execution_count": 9,
     "metadata": {},
     "output_type": "execute_result"
    }
   ],
   "source": [
    "accuracy_score(y_test, model.predict(X_test))"
   ]
  },
  {
   "cell_type": "markdown",
   "metadata": {},
   "source": [
    "Mój model jest skuteczny w około 95%, całkiem nieźle.\n",
    "Za każdym uruchomieniem uczenia się, model będzie miał delikatnie inną skuteczność."
   ]
  },
  {
   "cell_type": "markdown",
   "metadata": {},
   "source": [
    
   ]
  },
  {
   "cell_type": "markdown",
   "metadata": {},
   "source": [
    "### Teraz zbuduję kolejną sieć neuronową z tym, że skupię się na kilku parametrach i hiperparametrach tej sieci.\n",
    "#### Dodatkowo dodam dwie warstwy ukryte w mojej sieci."
   ]
  },
  {
   "cell_type": "code",
   "execution_count": 9,
   "metadata": {},
   "outputs": [],
   "source": [
    "model1 = make_pipeline(MaxAbsScaler(), MLPClassifier((64, 32, 16, 8), \n",
    "                                                    activation='tanh',\n",
    "                                                    solver='sgd',\n",
    "                                                    batch_size=10,\n",
    "                                                    max_iter=500,\n",
    "                                                    shuffle=True))"
   ]
  },
  {
   "cell_type": "markdown",
   "metadata": {},
   "source": [
    "#### Opis wybranych przeze mnie parametrów i hipermarametrów :\n",
    "##### Hiperparametry:\n",
    "* hidden_layer_size - wielkości warst ukrytych, w naszym przypadku (64, 32, 16, 8)\n",
    "* activation - funcja aktywacji (jedna wspólna dla wszystkich neuronów), do wyboru mamy:\n",
    "##### identity - neuron zwraca sumę bezpośrednio \n",
    "##### logistic - to samo co sigmoid zwraca wartości z przedziało 0-1, \n",
    "##### tanh - tangens hiperboliczny bardzo podobny do funkcji sigmoid z tym że jest rozciągnięty z przedziału 0-1 do (-1) - (1)\n",
    "##### relu - relu ta funkcjia nie jest ogrniaczona \n",
    "\n",
    "(Używa się akurat tych funkcji, ponieważ DZIAŁAJĄ :) i łatwo liczy się dla nich pochodne.)"
   ]
  },
  {
   "cell_type": "markdown",
   "metadata": {},
   "source": [
    "##### Parametry/argumenty:\n",
    "* solver - algortym uczenia \n",
    "##### lbfgs - klasyczny algortym, rzadko używany\n",
    "##### sgd - liczymy na próbkach, aktualizujemy metodą spadku gradientu\n",
    "##### adam -  podobny do  SGD, tylko wzór w metodzie spadku gradientu jest trochę zmodyfikowany (zmodyfikowane SGD)\n",
    "\n",
    "\n",
    "* batch_size - wielkość porcji pojedyńczej obserwacji tzw. BACZ, ma większe znaczenie przy większej ilości danych\n",
    "* max_iter - liczba epok przez którą, chcemy uczyć sieć (mogą uczyć się kilka epok, a czasami kilkaset, średnio kilkadziesiąt)\n",
    "* shuffle - przemieszać obserwacje przed uczeniem czy nie. Ogólnie dane powinny być przemieszane, ponieważ kolejność obserwacji może wpłynać na proces uczenia (parametr domyslnie ustawiony jest na TRUE)\n"
   ]
  },
  {
   "cell_type": "markdown",
   "metadata": {},
   "source": [
    "##### Jest oczywiście o wiele więcej argumentów dla perceptronu wielowarstwowego, ale mają znaczenie przy większej ilości danych."
   ]
  },
  {
   "cell_type": "code",
   "execution_count": 14,
   "metadata": {},
   "outputs": [
    {
     "data": {
      "text/plain": [
       "Pipeline(steps=[('maxabsscaler', MaxAbsScaler()),\n",
       "                ('mlpclassifier',\n",
       "                 MLPClassifier(activation='tanh', batch_size=10,\n",
       "                               hidden_layer_sizes=(64, 32, 16, 8), max_iter=500,\n",
       "                               solver='sgd'))])"
      ]
     },
     "execution_count": 14,
     "metadata": {},
     "output_type": "execute_result"
    }
   ],
   "source": [
    "model1.fit(X_train, y_train)"
   ]
  },
  {
   "cell_type": "markdown",
   "metadata": {},
   "source": [
    "Skuteczność modelu troche się poprawiła, jednak przy kolejnym uruchomieniu wynik ten ulegnie zmianie."
   ]
  },
  {
   "cell_type": "code",
   "execution_count": 15,
   "metadata": {},
   "outputs": [
    {
     "data": {
      "text/plain": [
       "0.9629629629629629"
      ]
     },
     "execution_count": 15,
     "metadata": {},
     "output_type": "execute_result"
    }
   ],
   "source": [
    "accuracy_score(y_test, model1.predict(X_test))"
   ]
  },
  {
   "cell_type": "markdown",
   "metadata": {},
   "source": [
    "#####  Sprawdzę jeszcze jak zachowują się moje modele (model, model1) z różnymi ilościami neuronów przy jednej warstwie ukrytej."
   ]
  },
  {
   "cell_type": "markdown",
   "metadata": {},
   "source": [
    "### model"
   ]
  },
  {
   "cell_type": "code",
   "execution_count": 17,
   "metadata": {},
   "outputs": [
    {
     "name": "stdout",
     "output_type": "stream",
     "text": [
      "1 :  0.37592592592592594\n",
      "5 :  0.9092592592592592\n",
      "10 :  0.9648148148148148\n",
      "15 :  0.9703703703703703\n",
      "20 :  0.9629629629629629\n",
      "25 :  0.9703703703703703\n",
      "50 :  0.9722222222222222\n",
      "100 :  0.9740740740740741\n",
      "200 :  0.9796296296296296\n",
      "500 :  0.975925925925926\n",
      "1000 :  0.9777777777777777\n",
      "10000 :  0.975925925925926\n"
     ]
    }
   ],
   "source": [
    "for hlz in [1, 5, 10 , 15, 20, 25, 50, 100, 200, 500, 1000, 10000]:\n",
    "    model = make_pipeline(MaxAbsScaler(), MLPClassifier((hlz), max_iter=100000)) #zmieniłem ilość epok, aby uniknać błędów\n",
    "    model.fit(X_train, y_train)\n",
    "    print(hlz,': ',accuracy_score(y_test, model.predict(X_test)))"
   ]
  },
  {
   "cell_type": "markdown",
   "metadata": {},
   "source": [
    "Widzimy, że za każdym razem gdy uczymy sieć, wynik jest trochę inny ALE podobny. Nauczona sieć nie powinna dawać skranie różnych wyników ponieważ będzie mówiło to o tym że, sieć jest niestabilna i powinniśmy popracować nad stabilnością sieci."
   ]
  },
  {
   "cell_type": "markdown",
   "metadata": {},
   "source": [
    "### model1"
   ]
  },
  {
   "cell_type": "code",
   "execution_count": 10,
   "metadata": {},
   "outputs": [
    {
     "name": "stdout",
     "output_type": "stream",
     "text": [
      "1 :  0.24814814814814815\n",
      "5 :  0.9148148148148149\n",
      "10 :  0.9388888888888889\n",
      "15 :  0.9537037037037037\n",
      "20 :  0.9537037037037037\n",
      "25 :  0.9481481481481482\n",
      "50 :  0.9462962962962963\n",
      "100 :  0.9425925925925925\n",
      "200 :  0.95\n",
      "500 :  0.9518518518518518\n",
      "1000 :  0.9518518518518518\n",
      "10000 :  0.9481481481481482\n"
     ]
    }
   ],
   "source": [
    "for hlz in [1, 5, 10 , 15, 20, 25, 50, 100, 200, 500, 1000, 10000]:\n",
    "    model1 = make_pipeline(MaxAbsScaler(), MLPClassifier((hlz), \n",
    "                                                    activation='tanh',\n",
    "                                                    solver='sgd',\n",
    "                                                    batch_size='auto',\n",
    "                                                    max_iter=100000,\n",
    "                                                    shuffle=True))\n",
    "    model1.fit(X_train, y_train)\n",
    "    print(hlz,': ',accuracy_score(y_test, model1.predict(X_test)))"
   ]
  },
  {
   "cell_type": "markdown",
   "metadata": {},
   "source": [
    "Porównując dwa powyższe modele można zauważyć, że 'model' jest lepszy od 'model1'. \n",
    "Pierwszy model zdobył skuteczność na poziomie 97% przy 15 neuronach. Przy wyższych ilościach neuronów ta skuteczność jest minimalnie lepsza, ale muszę wybrać pomiędzy skutecznością, a szybkością uczenia się.\n",
    "\n",
    "Drugi model zdobył 'jedynie' 95% skuteczności, dodatkowo duża liczba neuronów powoduje prawdopodobnie przeuczenie się modelu.\n",
    "\n",
    "Wniosek jest prosty - POTĘGA TKWI W PROSTOCIE :)"
   ]
  },
  {
   "cell_type": "code",
   "execution_count": null,
   "metadata": {},
   "outputs": [],
   "source": []
  }
 ],
 "metadata": {
  "kernelspec": {
   "display_name": "Python 3",
   "language": "python",
   "name": "python3"
  },
  "language_info": {
   "codemirror_mode": {
    "name": "ipython",
    "version": 3
   },
   "file_extension": ".py",
   "mimetype": "text/x-python",
   "name": "python",
   "nbconvert_exporter": "python",
   "pygments_lexer": "ipython3",
   "version": "3.8.5"
  }
 },
 "nbformat": 4,
 "nbformat_minor": 4
}
